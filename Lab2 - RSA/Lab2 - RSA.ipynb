{
 "cells": [
  {
   "cell_type": "markdown",
   "metadata": {
    "slideshow": {
     "slide_type": "slide"
    }
   },
   "source": [
    "### Algebraic group \"Modulo N\""
   ]
  },
  {
   "cell_type": "code",
   "execution_count": 1,
   "metadata": {},
   "outputs": [
    {
     "data": {
      "text/plain": [
       "isFirst (generic function with 1 method)"
      ]
     },
     "execution_count": 1,
     "metadata": {},
     "output_type": "execute_result"
    }
   ],
   "source": [
    "struct GroupN{N}\n",
    "    x\n",
    "    function GroupN{N}(x) where N\n",
    "        if(!isFirst(x,N))\n",
    "            error(\"DomainError\")\n",
    "        end\n",
    "        new(x % N)\n",
    "    end\n",
    "end\n",
    "\n",
    "function isFirst(x, N)\n",
    "    x = x % N\n",
    "    for i = 2:x\n",
    "        if(x % i == 0 && N % i == 0)\n",
    "            return false\n",
    "        end\n",
    "    end\n",
    "    return true\n",
    "end"
   ]
  },
  {
   "cell_type": "markdown",
   "metadata": {},
   "source": [
    "### Operations"
   ]
  },
  {
   "cell_type": "code",
   "execution_count": 2,
   "metadata": {},
   "outputs": [
    {
     "data": {
      "text/plain": [
       "* (generic function with 185 methods)"
      ]
     },
     "execution_count": 2,
     "metadata": {},
     "output_type": "execute_result"
    }
   ],
   "source": [
    "import Base.*\n",
    "\n",
    "*(x::GroupN{N}, y::GroupN{N}) where N = (x.x * y.x) % N\n",
    "*(x::GroupN{N}, y::S) where {N, S<:Integer} = (x.x * y) % N\n",
    "*(x::S, y::GroupN{N}) where {N, S<:Integer} = (x * y.x) % N"
   ]
  },
  {
   "cell_type": "markdown",
   "metadata": {},
   "source": [
    "### Converting"
   ]
  },
  {
   "cell_type": "code",
   "execution_count": 3,
   "metadata": {},
   "outputs": [
    {
     "data": {
      "text/plain": [
       "convert (generic function with 723 methods)"
      ]
     },
     "execution_count": 3,
     "metadata": {},
     "output_type": "execute_result"
    }
   ],
   "source": [
    "import Base.convert\n",
    "\n",
    "convert{N}(::Type{GroupN{N}}, x::Int64) = GroupN{N}(x)\n",
    "convert{N}(::Type{Int64}, x::GroupN{N}) = x.x"
   ]
  },
  {
   "cell_type": "markdown",
   "metadata": {},
   "source": [
    "### Promotion"
   ]
  },
  {
   "cell_type": "code",
   "execution_count": 4,
   "metadata": {},
   "outputs": [
    {
     "data": {
      "text/plain": [
       "promote_rule (generic function with 124 methods)"
      ]
     },
     "execution_count": 4,
     "metadata": {},
     "output_type": "execute_result"
    }
   ],
   "source": [
    "import Base.promote_rule\n",
    "\n",
    "promote_rule(::Type{GroupN{N}}, ::Type{T}) where {T<:Integer,N} = GroupN{N}"
   ]
  },
  {
   "cell_type": "markdown",
   "metadata": {},
   "source": [
    "### Power"
   ]
  },
  {
   "cell_type": "code",
   "execution_count": 5,
   "metadata": {},
   "outputs": [
    {
     "data": {
      "text/plain": [
       "^ (generic function with 53 methods)"
      ]
     },
     "execution_count": 5,
     "metadata": {},
     "output_type": "execute_result"
    }
   ],
   "source": [
    "import Base.^\n",
    "\n",
    "function ^(x::GroupN{N}, y::Integer) where N \n",
    "    n=GroupN{N}(1)\n",
    "    for i = 1:y\n",
    "        n=n*x\n",
    "    end\n",
    "    return n\n",
    "end"
   ]
  },
  {
   "cell_type": "markdown",
   "metadata": {},
   "source": [
    "### Counting peroid"
   ]
  },
  {
   "cell_type": "code",
   "execution_count": 6,
   "metadata": {},
   "outputs": [
    {
     "data": {
      "text/plain": [
       "countPeroid (generic function with 1 method)"
      ]
     },
     "execution_count": 6,
     "metadata": {},
     "output_type": "execute_result"
    }
   ],
   "source": [
    "function countPeroid(x::GroupN{N}) where N\n",
    "    for i = 1:N\n",
    "        try\n",
    "            if(convert(Int64, x^i) == 1)\n",
    "                return i\n",
    "            end\n",
    "        catch\n",
    "            continue\n",
    "        end\n",
    "    end\n",
    "    \n",
    "    return -1\n",
    "end"
   ]
  },
  {
   "cell_type": "markdown",
   "metadata": {},
   "source": [
    "### Reverse element"
   ]
  },
  {
   "cell_type": "code",
   "execution_count": 7,
   "metadata": {},
   "outputs": [
    {
     "data": {
      "text/plain": [
       "countRevert (generic function with 1 method)"
      ]
     },
     "execution_count": 7,
     "metadata": {},
     "output_type": "execute_result"
    }
   ],
   "source": [
    "function countRevert(x::GroupN{N}) where N\n",
    "    for i = 1:N\n",
    "        try\n",
    "            if(convert(Int64, x*i) == 1)\n",
    "                return i\n",
    "            end\n",
    "        catch\n",
    "            continue\n",
    "        end\n",
    "    end\n",
    "    \n",
    "    return -1\n",
    "end"
   ]
  },
  {
   "cell_type": "markdown",
   "metadata": {},
   "source": [
    "### Group strength"
   ]
  },
  {
   "cell_type": "code",
   "execution_count": 8,
   "metadata": {},
   "outputs": [
    {
     "data": {
      "text/plain": [
       "groupStrength (generic function with 1 method)"
      ]
     },
     "execution_count": 8,
     "metadata": {},
     "output_type": "execute_result"
    }
   ],
   "source": [
    "function groupStrength(T::Type{GroupN{N}}) where N\n",
    "    strength = 0\n",
    "    for i = 1:N\n",
    "        try\n",
    "            if(convert(Int64,GroupN{N}(i)) == i)\n",
    "                strength = strength + 1\n",
    "            end\n",
    "        catch\n",
    "            continue\n",
    "        end\n",
    "    end\n",
    "    \n",
    "    return strength\n",
    "end"
   ]
  },
  {
   "cell_type": "markdown",
   "metadata": {},
   "source": [
    "### Breaking RSA"
   ]
  },
  {
   "cell_type": "code",
   "execution_count": 9,
   "metadata": {
    "slideshow": {
     "slide_type": "slide"
    }
   },
   "outputs": [
    {
     "name": "stdout",
     "output_type": "stream",
     "text": [
      "4"
     ]
    },
    {
     "data": {
      "text/plain": [
       "true"
      ]
     },
     "execution_count": 9,
     "metadata": {},
     "output_type": "execute_result"
    }
   ],
   "source": [
    "N = 55 # public key\n",
    "c = 17 # public key\n",
    "\n",
    "msg = 4\n",
    "\n",
    "b = GroupN{N}(msg)^c # encrypted message\n",
    "\n",
    "\n",
    "r = countPeroid(GroupN{N}(b)) # counted peroid\n",
    "\n",
    "# heres hacking\n",
    "d = countRevert(GroupN{r}(c)) # private key\n",
    "\n",
    "\n",
    "a = GroupN{N}(b)^d # decrypted message\n",
    "print(a)\n",
    "\n",
    "b == GroupN{N}(a)^c\n",
    "\n"
   ]
  }
 ],
 "metadata": {
  "celltoolbar": "Slideshow",
  "kernelspec": {
   "display_name": "Julia 0.6.2",
   "language": "julia",
   "name": "julia-0.6"
  },
  "language_info": {
   "file_extension": ".jl",
   "mimetype": "application/julia",
   "name": "julia",
   "version": "0.6.2"
  }
 },
 "nbformat": 4,
 "nbformat_minor": 2
}
