{
 "cells": [
  {
   "cell_type": "markdown",
   "metadata": {},
   "source": [
    "### Implementation of selection sort"
   ]
  },
  {
   "cell_type": "code",
   "execution_count": 3,
   "metadata": {},
   "outputs": [
    {
     "data": {
      "text/plain": [
       "selectionSort (generic function with 1 method)"
      ]
     },
     "execution_count": 3,
     "metadata": {},
     "output_type": "execute_result"
    }
   ],
   "source": [
    "function selectionSort(array)\n",
    "    result = []\n",
    "    last_max = 1\n",
    "    \n",
    "    for i = 1:length(array)\n",
    "        max, index = 0, 1\n",
    "        for j = 1:length(array)\n",
    "            if last_max <= array[j]\n",
    "                continue\n",
    "            end\n",
    "            \n",
    "            if max < array[j]\n",
    "                max, index = array[j], j\n",
    "            end\n",
    "        end\n",
    "        \n",
    "        push!(result, array[index])\n",
    "        last_max = array[index]\n",
    "    end\n",
    "    \n",
    "    return result\n",
    "end"
   ]
  },
  {
   "cell_type": "markdown",
   "metadata": {},
   "source": [
    "### Usage"
   ]
  },
  {
   "cell_type": "code",
   "execution_count": 4,
   "metadata": {},
   "outputs": [
    {
     "name": "stdout",
     "output_type": "stream",
     "text": [
      "[0.763211, 0.544688, 0.137148, 0.738857, 0.0588814, 0.675659, 0.673133, 0.751486, 0.74195, 0.817146, 0.38967, 0.307412, 0.799464, 0.362464, 0.277154, 0.617403, 0.137276, 0.78534, 0.202495, 0.870201]"
     ]
    },
    {
     "data": {
      "text/plain": [
       "20-element Array{Any,1}:\n",
       " 0.870201 \n",
       " 0.817146 \n",
       " 0.799464 \n",
       " 0.78534  \n",
       " 0.763211 \n",
       " 0.751486 \n",
       " 0.74195  \n",
       " 0.738857 \n",
       " 0.675659 \n",
       " 0.673133 \n",
       " 0.617403 \n",
       " 0.544688 \n",
       " 0.38967  \n",
       " 0.362464 \n",
       " 0.307412 \n",
       " 0.277154 \n",
       " 0.202495 \n",
       " 0.137276 \n",
       " 0.137148 \n",
       " 0.0588814"
      ]
     },
     "execution_count": 4,
     "metadata": {},
     "output_type": "execute_result"
    }
   ],
   "source": [
    "array = rand(20)\n",
    "\n",
    "print(array)\n",
    "\n",
    "selectionSort(array)"
   ]
  },
  {
   "cell_type": "markdown",
   "metadata": {},
   "source": [
    "### Inspecting inheritance graph"
   ]
  },
  {
   "cell_type": "code",
   "execution_count": 5,
   "metadata": {},
   "outputs": [
    {
     "data": {
      "text/plain": [
       "\"Int64->Signed->Integer->Real->Number->Any\""
      ]
     },
     "execution_count": 5,
     "metadata": {},
     "output_type": "execute_result"
    }
   ],
   "source": [
    "myType = Int64\n",
    "str = myType\n",
    "\n",
    "while(myType != supertype(myType))\n",
    "    myType = supertype(myType)\n",
    "    str = join([str,myType], \"->\")\n",
    "end\n",
    "\n",
    "str"
   ]
  }
 ],
 "metadata": {
  "kernelspec": {
   "display_name": "Julia 0.6.2",
   "language": "julia",
   "name": "julia-0.6"
  },
  "language_info": {
   "file_extension": ".jl",
   "mimetype": "application/julia",
   "name": "julia",
   "version": "0.6.2"
  }
 },
 "nbformat": 4,
 "nbformat_minor": 2
}
