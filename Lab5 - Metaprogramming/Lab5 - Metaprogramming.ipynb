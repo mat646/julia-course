{
 "cells": [
  {
   "cell_type": "markdown",
   "metadata": {},
   "source": [
    "# Metaprogramming in Julia"
   ]
  },
  {
   "cell_type": "code",
   "execution_count": 1,
   "metadata": {
    "scrolled": false
   },
   "outputs": [
    {
     "name": "stdout",
     "output_type": "stream",
     "text": [
      "Expr\n",
      "  head: Symbol call\n",
      "  args: Array{Any}((3,))\n",
      "    1: Symbol -\n",
      "    2: Expr\n",
      "      head: Symbol call\n",
      "      args: Array{Any}((3,))\n",
      "        1: Symbol +\n",
      "        2: Int64 2\n",
      "        3: Expr\n",
      "          head: Symbol call\n",
      "          args: Array{Any}((3,))\n",
      "            1: Symbol *\n",
      "            2: Symbol a\n",
      "            3: Symbol b\n",
      "          typ: Any\n",
      "      typ: Any\n",
      "    3: Symbol c\n",
      "  typ: Any\n"
     ]
    }
   ],
   "source": [
    "# abstract syntax tree (AST)\n",
    "ex1 = parse(\"2+a*b-c\")\n",
    "dump(ex1)"
   ]
  },
  {
   "cell_type": "markdown",
   "metadata": {},
   "source": [
    "## Computing harmonic mean in macro"
   ]
  },
  {
   "cell_type": "code",
   "execution_count": 2,
   "metadata": {},
   "outputs": [
    {
     "data": {
      "text/plain": [
       "@mean (macro with 1 method)"
      ]
     },
     "execution_count": 2,
     "metadata": {},
     "output_type": "execute_result"
    }
   ],
   "source": [
    "macro mean(arr...)\n",
    "    ex = Expr(:call, :/, 1, arr[1])\n",
    "    for i = 2:length(arr)\n",
    "         ex = Expr(:call, :+, ex, Expr(:call, :/, 1, arr[i]))\n",
    "    end\n",
    "    \n",
    "    Expr(:call, :/, length(arr), ex)\n",
    "end"
   ]
  },
  {
   "cell_type": "code",
   "execution_count": 3,
   "metadata": {},
   "outputs": [
    {
     "data": {
      "text/plain": [
       "1.6363636363636365"
      ]
     },
     "execution_count": 3,
     "metadata": {},
     "output_type": "execute_result"
    }
   ],
   "source": [
    "@mean(1,2,3)"
   ]
  },
  {
   "cell_type": "code",
   "execution_count": 4,
   "metadata": {},
   "outputs": [
    {
     "data": {
      "text/plain": [
       ":(4 / (((1 / 2 + 1 / 2) + 1 / 5) + 1 / 7))"
      ]
     },
     "execution_count": 4,
     "metadata": {},
     "output_type": "execute_result"
    }
   ],
   "source": [
    "macroexpand(:(@mean(2,2,5,7)))"
   ]
  },
  {
   "cell_type": "markdown",
   "metadata": {},
   "source": [
    "## Automatic differentiation"
   ]
  },
  {
   "cell_type": "code",
   "execution_count": 2,
   "metadata": {},
   "outputs": [
    {
     "data": {
      "text/plain": [
       "autodiff (generic function with 3 methods)"
      ]
     },
     "execution_count": 2,
     "metadata": {},
     "output_type": "execute_result"
    }
   ],
   "source": [
    "using Match\n",
    "\n",
    "function mult(arr)\n",
    "    num = 0\n",
    "    mul = 1\n",
    "    \n",
    "    for elem in arr\n",
    "        @match elem begin\n",
    "            :x => num = num + 1\n",
    "            n => mul = mul * n\n",
    "        end\n",
    "    end\n",
    "    \n",
    "    return :($(mul*num) * :x ^ $(num-1))\n",
    "end\n",
    "\n",
    "function autodiff(ex:: Symbol)\n",
    "    @match ex begin\n",
    "        :x => return 1\n",
    "        n => return 0\n",
    "    end\n",
    "end\n",
    "\n",
    "function autodiff(ex:: Expr)\n",
    "    \n",
    "    res = Expr(:call, :+, 0, 0)\n",
    "    \n",
    "    @match ex.args begin\n",
    "        [:+, n...] =>  for i = 1:length(n)\n",
    "            ex = autodiff(n[i])\n",
    "            res = Expr(:call, :+, ex, res)\n",
    "          end\n",
    "        [:-, n...] => for i = 1:length(n)\n",
    "            ex = autodiff(n[i])\n",
    "            res = Expr(:call, :-, ex, res)\n",
    "          end\n",
    "        [:*, n...] => res = Expr(:call, :+, mult(n), res)\n",
    "        [:/, n...] => res = Expr(:call, :/, 1, n[2])\n",
    "        [:x] => 1\n",
    "    end\n",
    "    \n",
    "    return res\n",
    "end\n",
    "\n",
    "function autodiff(ex:: Int64)\n",
    "     return 0\n",
    "end"
   ]
  },
  {
   "cell_type": "code",
   "execution_count": 7,
   "metadata": {},
   "outputs": [
    {
     "data": {
      "text/plain": [
       ":((3 * :x ^ 2 + (0 + 0)) + (1 + (0 + 0)))"
      ]
     },
     "execution_count": 7,
     "metadata": {},
     "output_type": "execute_result"
    }
   ],
   "source": [
    "autodiff(:(x + x*x*x))"
   ]
  },
  {
   "cell_type": "code",
   "execution_count": 8,
   "metadata": {},
   "outputs": [
    {
     "data": {
      "text/plain": [
       ":(4 * :x ^ 0 + (0 + 0))"
      ]
     },
     "execution_count": 8,
     "metadata": {},
     "output_type": "execute_result"
    }
   ],
   "source": [
    "autodiff(:(4 * x))"
   ]
  },
  {
   "cell_type": "code",
   "execution_count": 9,
   "metadata": {},
   "outputs": [
    {
     "data": {
      "text/plain": [
       ":(0 - (((5 * :x ^ 0 + (0 + 0)) - (((4 * :x ^ 1 + (0 + 0)) + ((9 * :x ^ 2 + (0 + 0)) + (0 + 0))) - (0 + 0))) - (0 + 0)))"
      ]
     },
     "execution_count": 9,
     "metadata": {},
     "output_type": "execute_result"
    }
   ],
   "source": [
    "autodiff(:(3 * x * x * x + 2 * x * x - 5 * x - 10))"
   ]
  },
  {
   "cell_type": "code",
   "execution_count": 4,
   "metadata": {
    "scrolled": true
   },
   "outputs": [
    {
     "data": {
      "text/plain": [
       ":((3 * :x ^ 0 + (0 + 0)) + (1 / 2 + (0 + 0)))"
      ]
     },
     "execution_count": 4,
     "metadata": {},
     "output_type": "execute_result"
    }
   ],
   "source": [
    "autodiff(:(x / 2 + 3 * x))"
   ]
  }
 ],
 "metadata": {
  "kernelspec": {
   "display_name": "Julia 0.6.2",
   "language": "julia",
   "name": "julia-0.6"
  },
  "language_info": {
   "file_extension": ".jl",
   "mimetype": "application/julia",
   "name": "julia",
   "version": "0.6.2"
  }
 },
 "nbformat": 4,
 "nbformat_minor": 2
}
